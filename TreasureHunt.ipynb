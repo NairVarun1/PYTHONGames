{
 "cells": [
  {
   "cell_type": "code",
   "execution_count": 4,
   "id": "856d9ee9",
   "metadata": {},
   "outputs": [
    {
     "name": "stdout",
     "output_type": "stream",
     "text": [
      "Welcome to TREASURE HUNT!\n",
      "To navigate, type 'go' followed by 'north','south','east' or 'west'. \n",
      "You are standing outside a dark cave with a treasure waiting for you INSIDE !!!\n",
      "What do you want to do? To play enter 'GO' and to quit enter 'Quit'!go\n",
      "Which direction would you like to go?north\n",
      "You have entered a dense forest !!! Beware of the WILD !!!\n",
      "What do you want to do? To play enter 'GO' and to quit enter 'Quit'!go\n",
      "Which direction would you like to go?west\n",
      "A weak, creaking wooden bridge. Watch your step!!!\n",
      "What do you want to do? To play enter 'GO' and to quit enter 'Quit'!go\n",
      "Which direction would you like to go?north\n",
      "A spooky room with three doors. Choose the right door to win !! Which one has the TREASURE ??? \n",
      "What do you want to do? To play enter 'GO' and to quit enter 'Quit'!go\n",
      "Which direction would you like to go?east\n",
      "Congratulations!! You have found the hidden treasure.\n",
      "What do you want to do? To play enter 'GO' and to quit enter 'Quit'!quit\n",
      "Thanks for playing!! Goodbye !!\n"
     ]
    }
   ],
   "source": [
    "locations = {\n",
    "    \"start\": \"You are standing outside a dark cave with a treasure waiting for you INSIDE !!!\",\n",
    "    \"forest\": \"You have entered a dense forest !!! Beware of the WILD !!!\",\n",
    "    \"river\": \"A deep river with strong currents. Swimming across is impossible !!!\",\n",
    "    \"bridge\": \"A weak, creaking wooden bridge. Watch your step!!!\",\n",
    "    \"room\": \"A spooky room with three doors. Choose the right door to win !! Which one has the TREASURE ??? \",\n",
    "    \"treasure\": \"Congratulations!! You have found the hidden treasure.\"\n",
    "}\n",
    "\n",
    "actions = {\n",
    "    \"go\": [\"go\"],\n",
    "    \"quit\": [\"quit\"]\n",
    "}\n",
    "\n",
    "directions = {\n",
    "    \"north\": \"north\",\n",
    "    \"south\": \"south\",\n",
    "    \"east\": \"east\",\n",
    "    \"west\": \"west\"\n",
    "}\n",
    "\n",
    "connections = {\n",
    "    \"start\": {\"north\": \"forest\", \"east\": \"river\"},\n",
    "    \"forest\": {\"south\": \"start\", \"west\": \"bridge\"},\n",
    "    \"river\": {\"west\": \"start\", \"north\": \"forest\"},\n",
    "    \"bridge\": {\"east\": \"forest\", \"north\": \"room\"},\n",
    "    \"room\": {\"south\": \"bridge\", \"west\": \"start\", \"north\": \"forest\", \"east\": \"treasure\"},\n",
    "    \"treasure\": {\"west\": \"room\"},\n",
    "}\n",
    "\n",
    "\n",
    "def treasure_hunt():\n",
    "    current_location = \"start\"\n",
    "    print(\"Welcome to TREASURE HUNT!\")\n",
    "    print(\"To navigate, type 'go' followed by 'north','south','east' or 'west'. \")\n",
    "    print(locations[current_location])\n",
    "\n",
    "    while True:\n",
    "        action = input(\"What do you want to do? To play enter 'GO' and to quit enter 'Quit'!\").lower()\n",
    "        if action in actions[\"quit\"]:\n",
    "            print(\"Thanks for playing!! Goodbye !!\")\n",
    "            break\n",
    "        elif action in actions[\"go\"]:\n",
    "            direction = input(\"Which direction would you like to go?\").lower()\n",
    "            if direction in directions:\n",
    "                if direction in connections[current_location]:\n",
    "                    current_location = connections[current_location][direction]\n",
    "                    print(locations[current_location])\n",
    "                else:\n",
    "                    print(\"You cannot go that way!\")\n",
    "            else:\n",
    "                print(\"Invalid direction.\")\n",
    "        else:\n",
    "            print(\"Unknown action.\")\n",
    "\n",
    "\n",
    "if __name__ == \"__main__\":\n",
    "    treasure_hunt()\n"
   ]
  },
  {
   "cell_type": "code",
   "execution_count": null,
   "id": "833dc1e0",
   "metadata": {},
   "outputs": [],
   "source": []
  }
 ],
 "metadata": {
  "kernelspec": {
   "display_name": "Python 3 (ipykernel)",
   "language": "python",
   "name": "python3"
  },
  "language_info": {
   "codemirror_mode": {
    "name": "ipython",
    "version": 3
   },
   "file_extension": ".py",
   "mimetype": "text/x-python",
   "name": "python",
   "nbconvert_exporter": "python",
   "pygments_lexer": "ipython3",
   "version": "3.9.13"
  }
 },
 "nbformat": 4,
 "nbformat_minor": 5
}
