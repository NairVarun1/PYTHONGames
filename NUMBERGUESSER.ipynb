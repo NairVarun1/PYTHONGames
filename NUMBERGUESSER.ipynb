{
 "cells": [
  {
   "cell_type": "code",
   "execution_count": 7,
   "id": "613944f4",
   "metadata": {},
   "outputs": [
    {
     "name": "stdout",
     "output_type": "stream",
     "text": [
      "Welcome to Name Guesser !!!!\n",
      "You have 10 tries to guess the mystery number between 1 to 100\n",
      "Enter the number you would like to guess !!10\n",
      "That's too low!! Try Again :D\n",
      "Number of tries left:  9\n",
      "Enter the number you would like to guess !!30\n",
      "That's too low!! Try Again :D\n",
      "Number of tries left:  8\n",
      "Enter the number you would like to guess !!50\n",
      "That's too low!! Try Again :D\n",
      "Number of tries left:  7\n",
      "Enter the number you would like to guess !!70\n",
      "Wrong Guess!!! Try Again :D\n",
      "Number of tries left:  6\n",
      "Enter the number you would like to guess !!69\n",
      "Wrong Guess!!! Try Again :D\n",
      "Number of tries left:  5\n",
      "Enter the number you would like to guess !!68\n",
      "WooHooo!!! That's a PERFECT guess\n"
     ]
    }
   ],
   "source": [
    "import random\n",
    "print(\"Welcome to Name Guesser !!!!\")\n",
    "print(\"You have 10 tries to guess the mystery number between 1 to 100\")\n",
    "out=random.randint(1,100)\n",
    "tries=10\n",
    "playing=True\n",
    "while playing:\n",
    "    try:\n",
    "        guess=int(input(\"Enter the number you would like to guess !!\"))\n",
    "    except:\n",
    "        print(\"Please enter a valid number!!!\")\n",
    "    if guess==out:\n",
    "        print(\"WooHooo!!! That's a PERFECT guess\")\n",
    "        break\n",
    "        \n",
    "    elif guess>(out+10):\n",
    "        print(\"That's tooo high! Try Again :D\")\n",
    "        tries-=1\n",
    "        print(\"Number of tries left: \",tries)\n",
    "        \n",
    "    elif guess<(out-10):\n",
    "        print(\"That's too low!! Try Again :D\")\n",
    "        tries-=1\n",
    "        print(\"Number of tries left: \",tries)\n",
    "        \n",
    "    else:\n",
    "        print(\"Wrong Guess!!! Try Again :D\")\n",
    "        tries-=1\n",
    "        print(\"Number of tries left: \",tries)\n",
    "    \n",
    "    if tries==0:\n",
    "        print(\"OOPS!!! You could not guess the right number!!\")\n",
    "        print(\"\\n\")\n",
    "        res=str(input(\"Do you wish to try again? Enter y or n\"))\n",
    "        if res[0].lower()==\"y\":\n",
    "            playing=True\n",
    "        elif res[0].lower()==\"n\":\n",
    "            playing=False\n",
    "            print(\"Thanks for playing!! GOODBYE :D\")"
   ]
  },
  {
   "cell_type": "code",
   "execution_count": null,
   "id": "cd7ba25e",
   "metadata": {},
   "outputs": [],
   "source": []
  }
 ],
 "metadata": {
  "kernelspec": {
   "display_name": "Python 3 (ipykernel)",
   "language": "python",
   "name": "python3"
  },
  "language_info": {
   "codemirror_mode": {
    "name": "ipython",
    "version": 3
   },
   "file_extension": ".py",
   "mimetype": "text/x-python",
   "name": "python",
   "nbconvert_exporter": "python",
   "pygments_lexer": "ipython3",
   "version": "3.9.13"
  }
 },
 "nbformat": 4,
 "nbformat_minor": 5
}
