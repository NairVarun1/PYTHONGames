{
 "cells": [
  {
   "cell_type": "code",
   "execution_count": 4,
   "id": "68d1951f",
   "metadata": {},
   "outputs": [
    {
     "name": "stdout",
     "output_type": "stream",
     "text": [
      "Do you wish to roll a single dice or two dices?? Enter (s/t)t\n",
      "Press Enter to roll two dices.\n",
      "You rolled a 1 and a 6\n",
      "Do you want to roll again? Enter(y/n)y\n",
      "Do you wish to roll a single dice or two dices?? Enter (s/t)s\n",
      "Press Enter to roll the dice.\n",
      "You rolled a  4\n",
      "Do you want to roll again? Enter(y/n)y\n",
      "Do you wish to roll a single dice or two dices?? Enter (s/t)t\n",
      "Press Enter to roll two dices.\n",
      "You rolled a 5 and a 2\n",
      "Do you want to roll again? Enter(y/n)n\n"
     ]
    }
   ],
   "source": [
    "import random\n",
    "\n",
    "def dice_roll():\n",
    "    return random.randint(1,6)\n",
    "   \n",
    "def main():\n",
    "    while True:\n",
    "        choice=input(\"Do you wish to roll a single dice or two dices?? Enter (s/t)\").lower()\n",
    "        if choice=='s':\n",
    "            input(\"Press Enter to roll the dice.\")\n",
    "            num1=dice_roll()\n",
    "            print(\"You rolled a \",num1)\n",
    "        elif choice=='t':\n",
    "            input(\"Press Enter to roll two dices.\")\n",
    "            num2=dice_roll()\n",
    "            num3=dice_roll()\n",
    "            print(f\"You rolled a {num2} and a {num3}\")\n",
    "        else:\n",
    "            print(\"Enter a valid choice !!\")\n",
    "    \n",
    "        roll_again=input(\"Do you want to roll again? Enter(y/n)\").lower()\n",
    "        if roll_again!='y':\n",
    "            break\n",
    "if __name__==\"__main__\":\n",
    "    main()"
   ]
  },
  {
   "cell_type": "code",
   "execution_count": null,
   "id": "01d9d80a",
   "metadata": {},
   "outputs": [],
   "source": []
  }
 ],
 "metadata": {
  "kernelspec": {
   "display_name": "Python 3 (ipykernel)",
   "language": "python",
   "name": "python3"
  },
  "language_info": {
   "codemirror_mode": {
    "name": "ipython",
    "version": 3
   },
   "file_extension": ".py",
   "mimetype": "text/x-python",
   "name": "python",
   "nbconvert_exporter": "python",
   "pygments_lexer": "ipython3",
   "version": "3.11.3"
  }
 },
 "nbformat": 4,
 "nbformat_minor": 5
}
